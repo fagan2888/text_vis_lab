{
 "cells": [
  {
   "cell_type": "markdown",
   "metadata": {},
   "source": [
    "# Text Visualization Lab\n",
    "In this lab, you are going to analyse a twitter dataset containing users' new year resolutions for 2015. After your analysis, you should be able to answer:\n",
    "#### - What are the topics of new year's resolutions?\n",
    "#### - How do these topics distribute in text?\n",
    "\n",
    "### To answer the questions above, please follow the steps listed below, and demonstrate your results for each of them.\n",
    "1. Explore your data: What do you learn from the data sense-making process? \n",
    "2. Pre-process your data: What pre-processing methods are you using?\n",
    "3. Analyse your data.<br/>\n",
    "If you use any Machine Learning Models in your analysis, please answer:\n",
    "   - how do you choose your machine learning models used for this task?<br/>\n",
    "   - how do you select parameters?<br/><br/>\n",
    "4. Display your answers for  `What are the topics of new year's resolutions?`, `How does those topics distribute in text?` with <strong>static</strong> visualizations.\n",
    "\n",
    "### The data loading part is provided below. Please add your code and explanations after the data loading part.\n",
    "If you are new to Jupyter Notebook, you may need to know the following things:\n",
    "1. You can click `Cell`->`Cell Type`->`Markdown` to change the cell into text in Markdown format. Google `Markdown` to learn the grammar."
   ]
  },
  {
   "cell_type": "code",
   "execution_count": 2,
   "metadata": {},
   "outputs": [],
   "source": [
    "import numpy as np, pandas as pd\n",
    "import gensim, spacy\n",
    "import gensim.corpora as corpora\n",
    "from gensim.utils import lemmatize, simple_preprocess\n",
    "from gensim.models import CoherenceModel\n",
    "import matplotlib.pyplot as plt\n",
    "import nltk"
   ]
  },
  {
   "cell_type": "markdown",
   "metadata": {},
   "source": [
    "## Load Data"
   ]
  },
  {
   "cell_type": "code",
   "execution_count": 4,
   "metadata": {},
   "outputs": [],
   "source": [
    "df = pd.read_csv(filepath_or_buffer='New-Year-Resolution.csv', sep=',',\n",
    "                         header=0, index_col=None, lineterminator='\\n')"
   ]
  },
  {
   "cell_type": "markdown",
   "metadata": {},
   "source": [
    "## Data Sense-making"
   ]
  },
  {
   "cell_type": "code",
   "execution_count": 5,
   "metadata": {},
   "outputs": [
    {
     "data": {
      "text/html": [
       "<div>\n",
       "<style scoped>\n",
       "    .dataframe tbody tr th:only-of-type {\n",
       "        vertical-align: middle;\n",
       "    }\n",
       "\n",
       "    .dataframe tbody tr th {\n",
       "        vertical-align: top;\n",
       "    }\n",
       "\n",
       "    .dataframe thead th {\n",
       "        text-align: right;\n",
       "    }\n",
       "</style>\n",
       "<table border=\"1\" class=\"dataframe\">\n",
       "  <thead>\n",
       "    <tr style=\"text-align: right;\">\n",
       "      <th></th>\n",
       "      <th>name</th>\n",
       "      <th>text</th>\n",
       "      <th>tweet_date</th>\n",
       "      <th>tweet_location</th>\n",
       "      <th>tweet_state</th>\n",
       "      <th>user_timezone</th>\n",
       "    </tr>\n",
       "  </thead>\n",
       "  <tbody>\n",
       "    <tr>\n",
       "      <th>0</th>\n",
       "      <td>Dena_Marina</td>\n",
       "      <td>#NewYearsResolution :: Read more books, No scr...</td>\n",
       "      <td>12/31/14</td>\n",
       "      <td>Southern California</td>\n",
       "      <td>CA</td>\n",
       "      <td>Pacific Time (US &amp; Canada)</td>\n",
       "    </tr>\n",
       "    <tr>\n",
       "      <th>1</th>\n",
       "      <td>ninjagirl325</td>\n",
       "      <td>#NewYearsResolution Finally master @ZJ10 's pa...</td>\n",
       "      <td>12/31/14</td>\n",
       "      <td>New Jersey</td>\n",
       "      <td>NJ</td>\n",
       "      <td>Central Time (US &amp; Canada)</td>\n",
       "    </tr>\n",
       "    <tr>\n",
       "      <th>2</th>\n",
       "      <td>RickyDelReyy</td>\n",
       "      <td>#NewYearsResolution to stop being so damn perf...</td>\n",
       "      <td>12/31/14</td>\n",
       "      <td>Hollywood</td>\n",
       "      <td>CA</td>\n",
       "      <td>Eastern Time (US &amp; Canada)</td>\n",
       "    </tr>\n",
       "    <tr>\n",
       "      <th>3</th>\n",
       "      <td>CalmareNJ</td>\n",
       "      <td>My #NewYearsResolution is to help my disabled ...</td>\n",
       "      <td>12/31/14</td>\n",
       "      <td>Metro NYC</td>\n",
       "      <td>NY</td>\n",
       "      <td>NaN</td>\n",
       "    </tr>\n",
       "    <tr>\n",
       "      <th>4</th>\n",
       "      <td>welovatoyoudemi</td>\n",
       "      <td>#NewYearsResolution #2015Goals #2015bucketlist...</td>\n",
       "      <td>12/31/14</td>\n",
       "      <td>Pittsburgh, Pennsylvania</td>\n",
       "      <td>PA</td>\n",
       "      <td>Eastern Time (US &amp; Canada)</td>\n",
       "    </tr>\n",
       "    <tr>\n",
       "      <th>5</th>\n",
       "      <td>EthanJMoroles</td>\n",
       "      <td>#NewYearsResolution 1. Eat less.\\r2.quit lying.</td>\n",
       "      <td>12/31/14</td>\n",
       "      <td>Odessa Texas.</td>\n",
       "      <td>TX</td>\n",
       "      <td>NaN</td>\n",
       "    </tr>\n",
       "    <tr>\n",
       "      <th>6</th>\n",
       "      <td>jon__bay</td>\n",
       "      <td>My #NewYearsResolution \\r\\r-Learn how to drive...</td>\n",
       "      <td>12/31/14</td>\n",
       "      <td>Santa Cruz, CA</td>\n",
       "      <td>CA</td>\n",
       "      <td>Tijuana</td>\n",
       "    </tr>\n",
       "    <tr>\n",
       "      <th>7</th>\n",
       "      <td>freckleface_kev</td>\n",
       "      <td>_êØ@Becca3129 #NewYearsResolution #ForReal #Th...</td>\n",
       "      <td>12/31/14</td>\n",
       "      <td>North Carolina</td>\n",
       "      <td>NC</td>\n",
       "      <td>Eastern Time (US &amp; Canada)</td>\n",
       "    </tr>\n",
       "    <tr>\n",
       "      <th>8</th>\n",
       "      <td>yourethe1zforme</td>\n",
       "      <td>Save a pit bulls life #NewYearsResolution</td>\n",
       "      <td>12/31/14</td>\n",
       "      <td>North Carolina</td>\n",
       "      <td>NC</td>\n",
       "      <td>Eastern Time (US &amp; Canada)</td>\n",
       "    </tr>\n",
       "    <tr>\n",
       "      <th>9</th>\n",
       "      <td>Dandridge9</td>\n",
       "      <td>RT @_Dear_Leader_: #NewYearsResolution - I wil...</td>\n",
       "      <td>12/31/14</td>\n",
       "      <td>Portland, Oregon USA</td>\n",
       "      <td>OR</td>\n",
       "      <td>Arizona</td>\n",
       "    </tr>\n",
       "  </tbody>\n",
       "</table>\n",
       "</div>"
      ],
      "text/plain": [
       "              name                                               text  \\\n",
       "0      Dena_Marina  #NewYearsResolution :: Read more books, No scr...   \n",
       "1     ninjagirl325  #NewYearsResolution Finally master @ZJ10 's pa...   \n",
       "2     RickyDelReyy  #NewYearsResolution to stop being so damn perf...   \n",
       "3        CalmareNJ  My #NewYearsResolution is to help my disabled ...   \n",
       "4  welovatoyoudemi  #NewYearsResolution #2015Goals #2015bucketlist...   \n",
       "5    EthanJMoroles    #NewYearsResolution 1. Eat less.\\r2.quit lying.   \n",
       "6         jon__bay  My #NewYearsResolution \\r\\r-Learn how to drive...   \n",
       "7  freckleface_kev  _êØ@Becca3129 #NewYearsResolution #ForReal #Th...   \n",
       "8  yourethe1zforme          Save a pit bulls life #NewYearsResolution   \n",
       "9       Dandridge9  RT @_Dear_Leader_: #NewYearsResolution - I wil...   \n",
       "\n",
       "  tweet_date             tweet_location tweet_state  \\\n",
       "0   12/31/14        Southern California          CA   \n",
       "1   12/31/14                 New Jersey          NJ   \n",
       "2   12/31/14                  Hollywood          CA   \n",
       "3   12/31/14                  Metro NYC          NY   \n",
       "4   12/31/14  Pittsburgh, Pennsylvania           PA   \n",
       "5   12/31/14             Odessa Texas.           TX   \n",
       "6   12/31/14             Santa Cruz, CA          CA   \n",
       "7   12/31/14             North Carolina          NC   \n",
       "8   12/31/14             North Carolina          NC   \n",
       "9   12/31/14       Portland, Oregon USA          OR   \n",
       "\n",
       "                user_timezone  \n",
       "0  Pacific Time (US & Canada)  \n",
       "1  Central Time (US & Canada)  \n",
       "2  Eastern Time (US & Canada)  \n",
       "3                         NaN  \n",
       "4  Eastern Time (US & Canada)  \n",
       "5                         NaN  \n",
       "6                     Tijuana  \n",
       "7  Eastern Time (US & Canada)  \n",
       "8  Eastern Time (US & Canada)  \n",
       "9                     Arizona  "
      ]
     },
     "execution_count": 5,
     "metadata": {},
     "output_type": "execute_result"
    }
   ],
   "source": [
    "df.head(10)"
   ]
  },
  {
   "cell_type": "code",
   "execution_count": 7,
   "metadata": {},
   "outputs": [
    {
     "name": "stdout",
     "output_type": "stream",
     "text": [
      "(5011, 6)\n"
     ]
    }
   ],
   "source": [
    "print(df.shape)"
   ]
  },
  {
   "cell_type": "markdown",
   "metadata": {},
   "source": [
    "## Data Preprocessing"
   ]
  },
  {
   "cell_type": "code",
   "execution_count": 8,
   "metadata": {},
   "outputs": [],
   "source": [
    "data = df['text'].values"
   ]
  },
  {
   "cell_type": "code",
   "execution_count": 19,
   "metadata": {},
   "outputs": [],
   "source": [
    "from nltk.corpus import stopwords\n",
    "stop_words = stopwords.words('english')\n",
    "\n",
    "stop_words = stopwords.words('english')\n",
    "stop_words.extend(['new', 'year', 'resolution', 'newyearresolution', 'from', 'subject', 're', 'edu', 'use', 'not', 'would', 'say', 'could', '_', 'be', \n",
    "                   'know', 'good', 'go', 'get', 'do', 'done', 'try', 'many', 'some', 'nice', 'thank', \n",
    "                   'think', 'see', 'rather', 'easy', 'easily', 'lot', 'lack', 'make', 'want', 'seem', 'run', \n",
    "                   'need', 'even', 'right', 'line', 'even', 'also', 'may', 'take', 'come'])\n",
    "\n",
    "data_words = list(map(gensim.utils.simple_preprocess, data))"
   ]
  },
  {
   "cell_type": "code",
   "execution_count": 40,
   "metadata": {},
   "outputs": [],
   "source": [
    "data_words = [[word for word in simple_preprocess(str(doc)) if word not in stop_words] for doc in data_words]\n",
    "\n",
    "data_ready = []\n",
    "# Initialize spacy 'en' model, keeping only tagger component needed for lemmatization\n",
    "nlp = spacy.load('en', disable=['parser', 'ner'])\n",
    "allowed_postags=['NOUN', 'ADJ', 'VERB',]\n",
    "for sent in data_words:\n",
    "    # Parse the sentence using the loaded 'en' model object `nlp`. Extract the lemma for each token and join\n",
    "    doc = nlp(\" \".join(sent)) \n",
    "    data_ready.append([token.lemma_ for token in doc if token.pos_ in allowed_postags])\n",
    "# remove stopwords once more after lemmatization\n",
    "data_ready = [[word for word in simple_preprocess(str(doc)) if word not in stop_words] for doc in data_ready]"
   ]
  },
  {
   "cell_type": "code",
   "execution_count": 42,
   "metadata": {},
   "outputs": [],
   "source": [
    "# Create Dictionary\n",
    "id2word = corpora.Dictionary(data_ready)\n",
    "\n",
    "# Create Corpus: Term Document Frequency\n",
    "corpus = [id2word.doc2bow(text) for text in data_ready]\n",
    "\n",
    "# Build LDA model\n",
    "lda_model = gensim.models.ldamodel.LdaModel(corpus=corpus,\n",
    "                                           id2word=id2word,\n",
    "                                           num_topics=5, \n",
    "                                           random_state=100,\n",
    "                                           update_every=1,\n",
    "                                           chunksize=10,\n",
    "                                           passes=10,\n",
    "                                           alpha='symmetric',\n",
    "                                           iterations=100,\n",
    "                                           per_word_topics=True)"
   ]
  },
  {
   "cell_type": "code",
   "execution_count": 43,
   "metadata": {},
   "outputs": [
    {
     "name": "stdout",
     "output_type": "stream",
     "text": [
      "[(0,\n",
      "  '0.041*\"way\" + 0.041*\"time\" + 0.033*\"start\" + 0.028*\"body\" + 0.022*\"thing\" + '\n",
      "  '0.022*\"people\" + 0.022*\"newyearseve\" + 0.022*\"day\" + 0.018*\"money\" + '\n",
      "  '0.015*\"lose\"'),\n",
      " (1,\n",
      "  '0.125*\"co\" + 0.118*\"http\" + 0.038*\"learn\" + 0.030*\"shape\" + 0.027*\"goal\" + '\n",
      "  '0.011*\"live\" + 0.008*\"health\" + 0.008*\"travel\" + 0.007*\"https\" + '\n",
      "  '0.007*\"tapp\"'),\n",
      " (2,\n",
      "  '0.055*\"love\" + 0.038*\"stop\" + 0.030*\"friend\" + 0.020*\"find\" + 0.015*\"read\" '\n",
      "  '+ 0.013*\"tweet\" + 0.012*\"girl\" + 0.010*\"yoga\" + 0.010*\"quit\" + '\n",
      "  '0.009*\"drink\"'),\n",
      " (3,\n",
      "  '0.064*\"jan\" + 0.054*\"amp\" + 0.023*\"healthy\" + 0.021*\"happy\" + '\n",
      "  '0.019*\"newyear\" + 0.018*\"work\" + 0.018*\"keep\" + 0.013*\"weight\" + '\n",
      "  '0.012*\"cariloha\" + 0.012*\"change\"'),\n",
      " (4,\n",
      "  '0.033*\"eat\" + 0.029*\"life\" + 0.021*\"become\" + 0.021*\"less\" + 0.014*\"follow\" '\n",
      "  '+ 0.011*\"grow\" + 0.010*\"resolve\" + 0.010*\"fit\" + 0.010*\"selfie\" + '\n",
      "  '0.010*\"tell\"')]\n"
     ]
    }
   ],
   "source": [
    "from pprint import pprint\n",
    "pprint(lda_model.print_topics())"
   ]
  },
  {
   "cell_type": "code",
   "execution_count": 44,
   "metadata": {},
   "outputs": [
    {
     "data": {
      "text/html": [
       "<div>\n",
       "<style scoped>\n",
       "    .dataframe tbody tr th:only-of-type {\n",
       "        vertical-align: middle;\n",
       "    }\n",
       "\n",
       "    .dataframe tbody tr th {\n",
       "        vertical-align: top;\n",
       "    }\n",
       "\n",
       "    .dataframe thead th {\n",
       "        text-align: right;\n",
       "    }\n",
       "</style>\n",
       "<table border=\"1\" class=\"dataframe\">\n",
       "  <thead>\n",
       "    <tr style=\"text-align: right;\">\n",
       "      <th></th>\n",
       "      <th>Document_No</th>\n",
       "      <th>Dominant_Topic</th>\n",
       "      <th>Topic_Perc_Contrib</th>\n",
       "      <th>Keywords</th>\n",
       "      <th>Text</th>\n",
       "    </tr>\n",
       "  </thead>\n",
       "  <tbody>\n",
       "    <tr>\n",
       "      <th>0</th>\n",
       "      <td>0</td>\n",
       "      <td>2.0</td>\n",
       "      <td>0.4666</td>\n",
       "      <td>love, stop, friend, find, read, tweet, girl, y...</td>\n",
       "      <td>[read, book, scroll, check, email, breakfast, ...</td>\n",
       "    </tr>\n",
       "    <tr>\n",
       "      <th>1</th>\n",
       "      <td>1</td>\n",
       "      <td>0.0</td>\n",
       "      <td>0.8137</td>\n",
       "      <td>way, time, start, body, thing, people, newyear...</td>\n",
       "      <td>[master, part, kitchen, sink]</td>\n",
       "    </tr>\n",
       "    <tr>\n",
       "      <th>2</th>\n",
       "      <td>2</td>\n",
       "      <td>2.0</td>\n",
       "      <td>0.7899</td>\n",
       "      <td>love, stop, friend, find, read, tweet, girl, y...</td>\n",
       "      <td>[stop, damn, perf]</td>\n",
       "    </tr>\n",
       "    <tr>\n",
       "      <th>3</th>\n",
       "      <td>3</td>\n",
       "      <td>2.0</td>\n",
       "      <td>0.4199</td>\n",
       "      <td>love, stop, friend, find, read, tweet, girl, y...</td>\n",
       "      <td>[help, disabled, patient, discover, emotional,...</td>\n",
       "    </tr>\n",
       "    <tr>\n",
       "      <th>4</th>\n",
       "      <td>4</td>\n",
       "      <td>1.0</td>\n",
       "      <td>0.7090</td>\n",
       "      <td>co, http, learn, shape, goal, live, health, tr...</td>\n",
       "      <td>[goal, bucketlist, continue, http, co, twjg]</td>\n",
       "    </tr>\n",
       "    <tr>\n",
       "      <th>5</th>\n",
       "      <td>5</td>\n",
       "      <td>4.0</td>\n",
       "      <td>0.5795</td>\n",
       "      <td>eat, life, become, less, follow, grow, resolve...</td>\n",
       "      <td>[eat, less, quit, lying]</td>\n",
       "    </tr>\n",
       "    <tr>\n",
       "      <th>6</th>\n",
       "      <td>6</td>\n",
       "      <td>1.0</td>\n",
       "      <td>0.6150</td>\n",
       "      <td>co, http, learn, shape, goal, live, health, tr...</td>\n",
       "      <td>[learn, drive, apologize, read, write, upcomin...</td>\n",
       "    </tr>\n",
       "    <tr>\n",
       "      <th>7</th>\n",
       "      <td>7</td>\n",
       "      <td>1.0</td>\n",
       "      <td>0.5344</td>\n",
       "      <td>co, http, learn, shape, goal, live, health, tr...</td>\n",
       "      <td>[becca, forreal, thestruggle, http, co, kabowm...</td>\n",
       "    </tr>\n",
       "    <tr>\n",
       "      <th>8</th>\n",
       "      <td>8</td>\n",
       "      <td>4.0</td>\n",
       "      <td>0.8286</td>\n",
       "      <td>eat, life, become, less, follow, grow, resolve...</td>\n",
       "      <td>[save, pit, bull, life]</td>\n",
       "    </tr>\n",
       "    <tr>\n",
       "      <th>9</th>\n",
       "      <td>9</td>\n",
       "      <td>3.0</td>\n",
       "      <td>0.7261</td>\n",
       "      <td>jan, amp, healthy, happy, newyear, work, keep,...</td>\n",
       "      <td>[decent, haircut]</td>\n",
       "    </tr>\n",
       "  </tbody>\n",
       "</table>\n",
       "</div>"
      ],
      "text/plain": [
       "   Document_No  Dominant_Topic  Topic_Perc_Contrib  \\\n",
       "0            0             2.0              0.4666   \n",
       "1            1             0.0              0.8137   \n",
       "2            2             2.0              0.7899   \n",
       "3            3             2.0              0.4199   \n",
       "4            4             1.0              0.7090   \n",
       "5            5             4.0              0.5795   \n",
       "6            6             1.0              0.6150   \n",
       "7            7             1.0              0.5344   \n",
       "8            8             4.0              0.8286   \n",
       "9            9             3.0              0.7261   \n",
       "\n",
       "                                            Keywords  \\\n",
       "0  love, stop, friend, find, read, tweet, girl, y...   \n",
       "1  way, time, start, body, thing, people, newyear...   \n",
       "2  love, stop, friend, find, read, tweet, girl, y...   \n",
       "3  love, stop, friend, find, read, tweet, girl, y...   \n",
       "4  co, http, learn, shape, goal, live, health, tr...   \n",
       "5  eat, life, become, less, follow, grow, resolve...   \n",
       "6  co, http, learn, shape, goal, live, health, tr...   \n",
       "7  co, http, learn, shape, goal, live, health, tr...   \n",
       "8  eat, life, become, less, follow, grow, resolve...   \n",
       "9  jan, amp, healthy, happy, newyear, work, keep,...   \n",
       "\n",
       "                                                Text  \n",
       "0  [read, book, scroll, check, email, breakfast, ...  \n",
       "1                      [master, part, kitchen, sink]  \n",
       "2                                 [stop, damn, perf]  \n",
       "3  [help, disabled, patient, discover, emotional,...  \n",
       "4       [goal, bucketlist, continue, http, co, twjg]  \n",
       "5                           [eat, less, quit, lying]  \n",
       "6  [learn, drive, apologize, read, write, upcomin...  \n",
       "7  [becca, forreal, thestruggle, http, co, kabowm...  \n",
       "8                            [save, pit, bull, life]  \n",
       "9                                  [decent, haircut]  "
      ]
     },
     "execution_count": 44,
     "metadata": {},
     "output_type": "execute_result"
    }
   ],
   "source": [
    "def format_topics_sentences(ldamodel=None, corpus=corpus, texts=data):\n",
    "    # Init output\n",
    "    sent_topics_df = pd.DataFrame()\n",
    "\n",
    "    # Get main topic in each document\n",
    "    for i, row_list in enumerate(ldamodel[corpus]):\n",
    "        row = row_list[0] if ldamodel.per_word_topics else row_list            \n",
    "        # print(row)\n",
    "        row = sorted(row, key=lambda x: (x[1]), reverse=True)\n",
    "        # Get the Dominant topic, Perc Contribution and Keywords for each document\n",
    "        for j, (topic_num, prop_topic) in enumerate(row):\n",
    "            if j == 0:  # => dominant topic\n",
    "                wp = ldamodel.show_topic(topic_num)\n",
    "                topic_keywords = \", \".join([word for word, prop in wp])\n",
    "                sent_topics_df = sent_topics_df.append(pd.Series([int(topic_num), round(prop_topic,4), topic_keywords]), ignore_index=True)\n",
    "            else:\n",
    "                break\n",
    "    sent_topics_df.columns = ['Dominant_Topic', 'Perc_Contribution', 'Topic_Keywords']\n",
    "\n",
    "    # Add original text to the end of the output\n",
    "    contents = pd.Series(texts)\n",
    "    sent_topics_df = pd.concat([sent_topics_df, contents], axis=1)\n",
    "    return(sent_topics_df)\n",
    "\n",
    "\n",
    "df_topic_sents_keywords = format_topics_sentences(ldamodel=lda_model, corpus=corpus, texts=data_ready)\n",
    "\n",
    "# Format\n",
    "df_dominant_topic = df_topic_sents_keywords.reset_index()\n",
    "df_dominant_topic.columns = ['Document_No', 'Dominant_Topic', 'Topic_Perc_Contrib', 'Keywords', 'Text']\n",
    "df_dominant_topic.head(10)"
   ]
  },
  {
   "cell_type": "markdown",
   "metadata": {},
   "source": [
    "## How documents distribute in differnt topics"
   ]
  },
  {
   "cell_type": "code",
   "execution_count": 45,
   "metadata": {},
   "outputs": [
    {
     "data": {
      "image/png": "[encoded data removed]",
      "text/plain": [
       "<matplotlib.figure.Figure at 0x1218b6a90>"
      ]
     },
     "metadata": {},
     "output_type": "display_data"
    }
   ],
   "source": [
    "import seaborn as sns\n",
    "sns.set(style=\"darkgrid\")\n",
    "ax = sns.countplot(x=\"Dominant_Topic\", data=df_dominant_topic)"
   ]
  },
  {
   "cell_type": "markdown",
   "metadata": {},
   "source": [
    "## How terms contribute to each topic"
   ]
  },
  {
   "cell_type": "code",
   "execution_count": 62,
   "metadata": {},
   "outputs": [
    {
     "data": {
      "image/png": "[encoded data removed]",
      "text/plain": [
       "<matplotlib.figure.Figure at 0x120757e10>"
      ]
     },
     "metadata": {},
     "output_type": "display_data"
    }
   ],
   "source": [
    "fig, axes = plt.subplots(nrows=3, ncols=2, figsize=(15,25))\n",
    "\n",
    "for i in range(5):\n",
    "    terms = [id2word[term[0]] for term in lda_model.get_topic_terms(i, topn=10)]\n",
    "    weights = [term[1] for term in lda_model.get_topic_terms(i, topn=10)]\n",
    "    topic = pd.DataFrame()\n",
    "    topic[\"term\"] = terms\n",
    "    topic[\"weight\"] = weights\n",
    "    topic.set_index('term').plot(kind=\"bar\", ax=axes[int(i/2), i%2])\n",
    "    \n",
    "plt.show()"
   ]
  },
  {
   "cell_type": "code",
   "execution_count": null,
   "metadata": {},
   "outputs": [],
   "source": []
  }
 ],
 "metadata": {
  "kernelspec": {
   "display_name": "Python 3",
   "language": "python",
   "name": "python3"
  },
  "language_info": {
   "codemirror_mode": {
    "name": "ipython",
    "version": 3
   },
   "file_extension": ".py",
   "mimetype": "text/x-python",
   "name": "python",
   "nbconvert_exporter": "python",
   "pygments_lexer": "ipython3",
   "version": "3.6.1"
  }
 },
 "nbformat": 4,
 "nbformat_minor": 2
}
